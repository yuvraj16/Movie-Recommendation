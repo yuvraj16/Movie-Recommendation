{
 "cells": [
  {
   "cell_type": "markdown",
   "metadata": {},
   "source": [
    "# Recommending top 10 Movies "
   ]
  },
  {
   "cell_type": "markdown",
   "metadata": {},
   "source": [
    "### Importing Packages"
   ]
  },
  {
   "cell_type": "code",
   "execution_count": 23,
   "metadata": {},
   "outputs": [],
   "source": [
    "#importing packages\n",
    "import re\n",
    "import os\n",
    "import pandas as pd\n",
    "import numpy as np\n",
    "from sklearn.model_selection import train_test_split\n",
    "import torch\n",
    "import torch.nn as nn\n",
    "import torch.nn.functional as F\n",
    "import torchvision\n",
    "import warnings\n",
    "warnings.filterwarnings(\"ignore\")\n",
    "from numpy import array\n",
    "from numpy import argmax\n",
    "from sklearn.preprocessing import LabelEncoder\n",
    "from sklearn.preprocessing import OneHotEncoder"
   ]
  },
  {
   "cell_type": "markdown",
   "metadata": {},
   "source": [
    "## Data Preperartion"
   ]
  },
  {
   "cell_type": "code",
   "execution_count": 74,
   "metadata": {},
   "outputs": [],
   "source": [
    "#Loading Datasets\n",
    "\n",
    "ratings = pd.read_csv('ml-latest-small/ratings.csv')\n",
    "movies = pd.read_csv('ml-latest-small/movies.csv')\n",
    "tags = pd.read_csv('ml-latest-small/tags.csv')\n",
    "links =  pd.read_csv('ml-latest-small/links.csv')"
   ]
  },
  {
   "cell_type": "code",
   "execution_count": 75,
   "metadata": {},
   "outputs": [
    {
     "data": {
      "text/plain": [
       "tensor([[ 0., 21., 11.,  ...,  0.,  0.,  0.],\n",
       "        [21.,  0.,  5.,  ...,  0.,  0.,  0.],\n",
       "        [11.,  5.,  0.,  ...,  0.,  0.,  0.],\n",
       "        ...,\n",
       "        [ 0.,  0.,  0.,  ...,  0.,  0.,  0.],\n",
       "        [ 0.,  0.,  0.,  ...,  0.,  0.,  0.],\n",
       "        [ 0.,  0.,  0.,  ...,  0.,  0.,  0.]])"
      ]
     },
     "execution_count": 75,
     "metadata": {},
     "output_type": "execute_result"
    }
   ],
   "source": [
    "#Classifying user as 1 who rated move >=4 otherwise 0\n",
    "ratings['Like']=np.where(ratings['rating']>=4,1,0)\n",
    "\n",
    "#Dropping rating column\n",
    "ratings = ratings.drop(['rating'],axis=1) \n",
    "\n",
    "# creating a pivot using userId and movieId of ratings table\n",
    "ratings_pivot = ratings.pivot(index = 'userId', columns ='movieId', values = 'Like').fillna(0)\n",
    "\n",
    "#creating a co-occurence matrix , Each entry Xi,j is the number of users who like both movie i and j\n",
    "rating_co_occ = ratings_pivot.T.dot(ratings_pivot)\n",
    "\n",
    "# converting rating_co_occ to matrix with diagonal elements as 0 so that movie does not compare to itself\n",
    "actual_reco=rating_co_occ.as_matrix()\n",
    "np.fill_diagonal(actual_reco, 0)\n",
    "\n",
    "# converting matrix to tensor using torch\n",
    "\n",
    "actual_reco = torch.from_numpy(rating_co_occ.as_matrix()).float()\n",
    "actual_reco"
   ]
  },
  {
   "cell_type": "markdown",
   "metadata": {},
   "source": [
    "## Reference Matrix to check actual recommendation"
   ]
  },
  {
   "cell_type": "code",
   "execution_count": 76,
   "metadata": {
    "scrolled": true
   },
   "outputs": [
    {
     "data": {
      "text/html": [
       "<div>\n",
       "<style scoped>\n",
       "    .dataframe tbody tr th:only-of-type {\n",
       "        vertical-align: middle;\n",
       "    }\n",
       "\n",
       "    .dataframe tbody tr th {\n",
       "        vertical-align: top;\n",
       "    }\n",
       "\n",
       "    .dataframe thead th {\n",
       "        text-align: right;\n",
       "    }\n",
       "</style>\n",
       "<table border=\"1\" class=\"dataframe\">\n",
       "  <thead>\n",
       "    <tr style=\"text-align: right;\">\n",
       "      <th></th>\n",
       "      <th>movieId</th>\n",
       "      <th>1</th>\n",
       "      <th>2</th>\n",
       "      <th>3</th>\n",
       "      <th>4</th>\n",
       "      <th>5</th>\n",
       "      <th>6</th>\n",
       "      <th>7</th>\n",
       "      <th>8</th>\n",
       "      <th>9</th>\n",
       "      <th>...</th>\n",
       "      <th>193573</th>\n",
       "      <th>193579</th>\n",
       "      <th>193581</th>\n",
       "      <th>193583</th>\n",
       "      <th>193585</th>\n",
       "      <th>193587</th>\n",
       "      <th>193609</th>\n",
       "      <th>title</th>\n",
       "      <th>genres</th>\n",
       "      <th>movie</th>\n",
       "    </tr>\n",
       "  </thead>\n",
       "  <tbody>\n",
       "    <tr>\n",
       "      <th>0</th>\n",
       "      <td>1</td>\n",
       "      <td>0.0</td>\n",
       "      <td>21.0</td>\n",
       "      <td>11.0</td>\n",
       "      <td>0.0</td>\n",
       "      <td>7.0</td>\n",
       "      <td>27.0</td>\n",
       "      <td>7.0</td>\n",
       "      <td>1.0</td>\n",
       "      <td>4.0</td>\n",
       "      <td>...</td>\n",
       "      <td>0.0</td>\n",
       "      <td>0.0</td>\n",
       "      <td>0.0</td>\n",
       "      <td>0.0</td>\n",
       "      <td>0.0</td>\n",
       "      <td>0.0</td>\n",
       "      <td>0.0</td>\n",
       "      <td>Toy Story (1995)</td>\n",
       "      <td>Adventure|Animation|Children|Comedy|Fantasy</td>\n",
       "      <td>toy story</td>\n",
       "    </tr>\n",
       "    <tr>\n",
       "      <th>1</th>\n",
       "      <td>2</td>\n",
       "      <td>21.0</td>\n",
       "      <td>0.0</td>\n",
       "      <td>5.0</td>\n",
       "      <td>0.0</td>\n",
       "      <td>4.0</td>\n",
       "      <td>8.0</td>\n",
       "      <td>6.0</td>\n",
       "      <td>0.0</td>\n",
       "      <td>0.0</td>\n",
       "      <td>...</td>\n",
       "      <td>0.0</td>\n",
       "      <td>0.0</td>\n",
       "      <td>0.0</td>\n",
       "      <td>0.0</td>\n",
       "      <td>0.0</td>\n",
       "      <td>0.0</td>\n",
       "      <td>0.0</td>\n",
       "      <td>Jumanji (1995)</td>\n",
       "      <td>Adventure|Children|Fantasy</td>\n",
       "      <td>jumanji</td>\n",
       "    </tr>\n",
       "    <tr>\n",
       "      <th>2</th>\n",
       "      <td>3</td>\n",
       "      <td>11.0</td>\n",
       "      <td>5.0</td>\n",
       "      <td>0.0</td>\n",
       "      <td>0.0</td>\n",
       "      <td>4.0</td>\n",
       "      <td>4.0</td>\n",
       "      <td>5.0</td>\n",
       "      <td>1.0</td>\n",
       "      <td>2.0</td>\n",
       "      <td>...</td>\n",
       "      <td>0.0</td>\n",
       "      <td>0.0</td>\n",
       "      <td>0.0</td>\n",
       "      <td>0.0</td>\n",
       "      <td>0.0</td>\n",
       "      <td>0.0</td>\n",
       "      <td>0.0</td>\n",
       "      <td>Grumpier Old Men (1995)</td>\n",
       "      <td>Comedy|Romance</td>\n",
       "      <td>grumpier old men</td>\n",
       "    </tr>\n",
       "  </tbody>\n",
       "</table>\n",
       "<p>3 rows × 9728 columns</p>\n",
       "</div>"
      ],
      "text/plain": [
       "   movieId     1     2     3    4    5     6    7    8    9        ...         \\\n",
       "0        1   0.0  21.0  11.0  0.0  7.0  27.0  7.0  1.0  4.0        ...          \n",
       "1        2  21.0   0.0   5.0  0.0  4.0   8.0  6.0  0.0  0.0        ...          \n",
       "2        3  11.0   5.0   0.0  0.0  4.0   4.0  5.0  1.0  2.0        ...          \n",
       "\n",
       "   193573  193579  193581  193583  193585  193587  193609  \\\n",
       "0     0.0     0.0     0.0     0.0     0.0     0.0     0.0   \n",
       "1     0.0     0.0     0.0     0.0     0.0     0.0     0.0   \n",
       "2     0.0     0.0     0.0     0.0     0.0     0.0     0.0   \n",
       "\n",
       "                     title                                       genres  \\\n",
       "0         Toy Story (1995)  Adventure|Animation|Children|Comedy|Fantasy   \n",
       "1           Jumanji (1995)                   Adventure|Children|Fantasy   \n",
       "2  Grumpier Old Men (1995)                               Comedy|Romance   \n",
       "\n",
       "              movie  \n",
       "0         toy story  \n",
       "1           jumanji  \n",
       "2  grumpier old men  \n",
       "\n",
       "[3 rows x 9728 columns]"
      ]
     },
     "execution_count": 76,
     "metadata": {},
     "output_type": "execute_result"
    }
   ],
   "source": [
    "# creating a reference table with movieId, indexes of movies, movie name and genre\n",
    "# We will use dataframe to compare actually highest rated movies for a given movie with \n",
    "# the movies recommended by the model. (Used in End)\n",
    "\n",
    "reference = rating_co_occ.reset_index()\n",
    "reference = reference.merge(movies_ds, on='movieId', how='inner')\n",
    "reference[\"movie\"]=reference[\"title\"].str.split('(',expand=True)[0].str.strip().str.lower()\n",
    "reference.head(3)"
   ]
  },
  {
   "cell_type": "markdown",
   "metadata": {},
   "source": [
    "## One Hot Encoded Movie Matrix For Input"
   ]
  },
  {
   "cell_type": "code",
   "execution_count": 77,
   "metadata": {
    "scrolled": false
   },
   "outputs": [
    {
     "name": "stdout",
     "output_type": "stream",
     "text": [
      "tensor([[1., 0., 0.,  ..., 0., 0., 0.],\n",
      "        [0., 1., 0.,  ..., 0., 0., 0.],\n",
      "        [0., 0., 1.,  ..., 0., 0., 0.],\n",
      "        ...,\n",
      "        [0., 0., 0.,  ..., 1., 0., 0.],\n",
      "        [0., 0., 0.,  ..., 0., 1., 0.],\n",
      "        [0., 0., 0.,  ..., 0., 0., 1.]])\n"
     ]
    }
   ],
   "source": [
    "# creating a One Hot Encoded matrix for each movie\n",
    "# We will use this matrix to train movie Embeddings \n",
    "\n",
    "#Select uniue movies for which rating is given\n",
    "data = reference[\"movieId\"].unique()\n",
    "values = array(data)\n",
    "\n",
    "\n",
    "\n",
    "label_encoder = LabelEncoder()\n",
    "integer_encoded = label_encoder.fit_transform(values)\n",
    "\n",
    "\n",
    "onehot_encoder = OneHotEncoder(sparse=False)\n",
    "integer_encoded = integer_encoded.reshape(len(integer_encoded), 1)\n",
    "onehot_encoded = onehot_encoder.fit_transform(integer_encoded)\n",
    "#print(onehot_encoded)\n",
    "\n",
    "inverted = label_encoder.inverse_transform([argmax(onehot_encoded[0, :])])\n",
    "\n",
    "\n",
    "\n",
    "\n",
    "# Converting One Hot Encoded Matrix into Tensor to use with as input in Pytorch Module\n",
    "movies_tensor = torch.from_numpy(onehot_encoded).float()\n",
    "movies_tensor= torch.tensor(movies_tensor)\n",
    "print(movies_tensor)"
   ]
  },
  {
   "cell_type": "markdown",
   "metadata": {},
   "source": [
    "## Building Model to train Movie Embeddings"
   ]
  },
  {
   "cell_type": "code",
   "execution_count": 78,
   "metadata": {
    "collapsed": true
   },
   "outputs": [
    {
     "name": "stdout",
     "output_type": "stream",
     "text": [
      "iteration: 0  Loss: 63482980.0\n"
     ]
    },
    {
     "ename": "KeyboardInterrupt",
     "evalue": "",
     "output_type": "error",
     "traceback": [
      "\u001b[0;31m---------------------------------------------------------------------------\u001b[0m",
      "\u001b[0;31mKeyboardInterrupt\u001b[0m                         Traceback (most recent call last)",
      "\u001b[0;32m<ipython-input-78-5087a56324e1>\u001b[0m in \u001b[0;36m<module>\u001b[0;34m()\u001b[0m\n\u001b[1;32m     56\u001b[0m     \u001b[0;31m# Backward pass: compute gradient of the loss with respect to model\u001b[0m\u001b[0;34m\u001b[0m\u001b[0;34m\u001b[0m\u001b[0m\n\u001b[1;32m     57\u001b[0m     \u001b[0;31m# parameters\u001b[0m\u001b[0;34m\u001b[0m\u001b[0;34m\u001b[0m\u001b[0m\n\u001b[0;32m---> 58\u001b[0;31m     \u001b[0mloss\u001b[0m\u001b[0;34m.\u001b[0m\u001b[0mbackward\u001b[0m\u001b[0;34m(\u001b[0m\u001b[0;34m)\u001b[0m\u001b[0;34m\u001b[0m\u001b[0m\n\u001b[0m\u001b[1;32m     59\u001b[0m \u001b[0;34m\u001b[0m\u001b[0m\n\u001b[1;32m     60\u001b[0m     \u001b[0;31m# Calling the step function on an Optimizer makes an update to its\u001b[0m\u001b[0;34m\u001b[0m\u001b[0;34m\u001b[0m\u001b[0m\n",
      "\u001b[0;32m/anaconda3/lib/python3.6/site-packages/torch/tensor.py\u001b[0m in \u001b[0;36mbackward\u001b[0;34m(self, gradient, retain_graph, create_graph)\u001b[0m\n\u001b[1;32m    100\u001b[0m                 \u001b[0mproducts\u001b[0m\u001b[0;34m.\u001b[0m \u001b[0mDefaults\u001b[0m \u001b[0mto\u001b[0m\u001b[0;31m \u001b[0m\u001b[0;31m`\u001b[0m\u001b[0;31m`\u001b[0m\u001b[0;32mFalse\u001b[0m\u001b[0;31m`\u001b[0m\u001b[0;31m`\u001b[0m\u001b[0;34m.\u001b[0m\u001b[0;34m\u001b[0m\u001b[0m\n\u001b[1;32m    101\u001b[0m         \"\"\"\n\u001b[0;32m--> 102\u001b[0;31m         \u001b[0mtorch\u001b[0m\u001b[0;34m.\u001b[0m\u001b[0mautograd\u001b[0m\u001b[0;34m.\u001b[0m\u001b[0mbackward\u001b[0m\u001b[0;34m(\u001b[0m\u001b[0mself\u001b[0m\u001b[0;34m,\u001b[0m \u001b[0mgradient\u001b[0m\u001b[0;34m,\u001b[0m \u001b[0mretain_graph\u001b[0m\u001b[0;34m,\u001b[0m \u001b[0mcreate_graph\u001b[0m\u001b[0;34m)\u001b[0m\u001b[0;34m\u001b[0m\u001b[0m\n\u001b[0m\u001b[1;32m    103\u001b[0m \u001b[0;34m\u001b[0m\u001b[0m\n\u001b[1;32m    104\u001b[0m     \u001b[0;32mdef\u001b[0m \u001b[0mregister_hook\u001b[0m\u001b[0;34m(\u001b[0m\u001b[0mself\u001b[0m\u001b[0;34m,\u001b[0m \u001b[0mhook\u001b[0m\u001b[0;34m)\u001b[0m\u001b[0;34m:\u001b[0m\u001b[0;34m\u001b[0m\u001b[0m\n",
      "\u001b[0;32m/anaconda3/lib/python3.6/site-packages/torch/autograd/__init__.py\u001b[0m in \u001b[0;36mbackward\u001b[0;34m(tensors, grad_tensors, retain_graph, create_graph, grad_variables)\u001b[0m\n\u001b[1;32m     88\u001b[0m     Variable._execution_engine.run_backward(\n\u001b[1;32m     89\u001b[0m         \u001b[0mtensors\u001b[0m\u001b[0;34m,\u001b[0m \u001b[0mgrad_tensors\u001b[0m\u001b[0;34m,\u001b[0m \u001b[0mretain_graph\u001b[0m\u001b[0;34m,\u001b[0m \u001b[0mcreate_graph\u001b[0m\u001b[0;34m,\u001b[0m\u001b[0;34m\u001b[0m\u001b[0m\n\u001b[0;32m---> 90\u001b[0;31m         allow_unreachable=True)  # allow_unreachable flag\n\u001b[0m\u001b[1;32m     91\u001b[0m \u001b[0;34m\u001b[0m\u001b[0m\n\u001b[1;32m     92\u001b[0m \u001b[0;34m\u001b[0m\u001b[0m\n",
      "\u001b[0;31mKeyboardInterrupt\u001b[0m: "
     ]
    }
   ],
   "source": [
    "\n",
    "# N is batch size; D_in is input dimension;\n",
    "# H is hidden dimension; D_out is output dimension.\n",
    "D_in,H, D_out = 9724, 300, 9724\n",
    "\n",
    "# We will store loss after every iteration\n",
    "loss_array =[]\n",
    "\n",
    "# Create X and Y Tensors to hold inputs and outputs\n",
    "x = movies_tensor\n",
    "y = actual_reco\n",
    "\n",
    "# Use the nn package to define our model as a sequence of layers. nn.Sequential\n",
    "# is a Module which contains other Modules, and applies them in sequence to\n",
    "# produce its output. Each Linear Module computes output from input using a\n",
    "# linear function, and holds internal Tensors for its weight and bias.\n",
    "\n",
    "\n",
    "model = torch.nn.Linear(D_in, H,bias=0)\n",
    "\n",
    "# The nn package also contains definitions of popular loss functions; in this\n",
    "# case we will use Mean Squared Error (MSE) as our loss function.\n",
    "loss_fn = torch.nn.MSELoss(reduction=\"sum\")\n",
    "\n",
    "\n",
    "\n",
    "learning_rate = 0.01\n",
    "\n",
    "# Using ADAM as choice of Optimizer\n",
    "optimizer = torch.optim.Adam(model.parameters(), lr=learning_rate)\n",
    "\n",
    "for t in range(201):\n",
    "    # Forward pass: compute predicted y by passing x to the model.\n",
    "    v_i = model(x)\n",
    "    v_j = v_i.t()\n",
    "    y_pred = torch.mm(v_i,v_j)\n",
    "\n",
    "    # Setting Diagonals of predicted score matrix to zero\n",
    "    ind = np.diag_indices(y_pred.shape[0])\n",
    "    y_pred[ind[0], ind[1]] = torch.zeros(y_pred.shape[0])\n",
    "    y_pred\n",
    "\n",
    "    # Compute and print loss.\n",
    "    loss = loss_fn(y_pred, y)\n",
    "    if t % 20 == 0:\n",
    "        print(\"iteration:\",t, \" Loss:\",loss.item())\n",
    "        loss_array.append(loss)\n",
    "\n",
    "    # Before the backward pass, use the optimizer object to zero all of the\n",
    "    # gradients for the variables it will update (which are the learnable\n",
    "    # weights of the model). This is because by default, gradients are\n",
    "    # accumulated in buffers( i.e, not overwritten) whenever .backward()\n",
    "    # is called. Checkout docs of torch.autograd.backward for more details.\n",
    "    optimizer.zero_grad()\n",
    "\n",
    "    # Backward pass: compute gradient of the loss with respect to model\n",
    "    # parameters\n",
    "    loss.backward()\n",
    "\n",
    "    # Calling the step function on an Optimizer makes an update to its\n",
    "    # parameters\n",
    "    optimizer.step()"
   ]
  },
  {
   "cell_type": "markdown",
   "metadata": {},
   "source": [
    "#### Loss of cost function after 200 iterations is:"
   ]
  },
  {
   "cell_type": "code",
   "execution_count": 61,
   "metadata": {},
   "outputs": [
    {
     "data": {
      "image/png": "[encoded data removed]",
      "text/plain": [
       "<Figure size 432x288 with 1 Axes>"
      ]
     },
     "metadata": {},
     "output_type": "display_data"
    }
   ],
   "source": [
    "# plot of loss vs interations\n",
    "import matplotlib.pyplot as plt\n",
    "plt.title(\"Loss vs iteration plot\")\n",
    "plt.plot(loss_array)\n",
    "plt.show()"
   ]
  },
  {
   "cell_type": "markdown",
   "metadata": {},
   "source": [
    "## Recommending top 10 movies"
   ]
  },
  {
   "cell_type": "code",
   "execution_count": 43,
   "metadata": {},
   "outputs": [],
   "source": [
    "# Creating a prediction function to give movie recommendations from Model\n",
    "\n",
    "def prediction(moviename):\n",
    "    \n",
    "    #getting tensor for movie\n",
    "    moviename= moviename.lower()\n",
    "    idx = reference[reference[\"movie\"]== moviename].index[0]   \n",
    "    movie = movies_tensor[idx]\n",
    "    movie = movie.reshape(1,movie.shape[0])\n",
    "    \n",
    "    #storing weight vector from model\n",
    "    for name, param in model.named_parameters():\n",
    "        weight_vector = param\n",
    "    \n",
    "    # prediction for given movie\n",
    "    movie_i = model(movie)\n",
    "    pred = torch.mm(movie_i,weight_vector)\n",
    "    \n",
    "    # movie index value sorted from min to max for predicted score values\n",
    "    \n",
    "    pred_idx = (-np.asanyarray(pred[0].detach().numpy())).argsort()[:10]\n",
    "    \n",
    "    # Getting title of recommended movie from Reference Dataframe\n",
    "    recommendations = reference[\"title\"].iloc[pred_idx]\n",
    "    \n",
    "    return recommendations\n",
    "    "
   ]
  },
  {
   "cell_type": "code",
   "execution_count": 35,
   "metadata": {},
   "outputs": [],
   "source": [
    "# Creating a function to see top 10 movies recommendation for a movie in Xij matrix\n",
    "\n",
    "def observed_reco(moviename):\n",
    "    \n",
    "    # Getting Index of Movie from MovieId\n",
    "    idx = reference[reference[\"movie\"]== moviename].index[0]\n",
    "    \n",
    "    # Sorting top 10 movie indexes from Co-Occurence Matrix\n",
    "    obs_idx = (-np.asanyarray(rating_co_occ.iloc[idx])).argsort()[:10]\n",
    "    \n",
    "    # Getting movie title from top 10 movie indexes\n",
    "    recommendations = reference[\"title\"].iloc[obs_idx]\n",
    "    \n",
    "    return recommendations"
   ]
  },
  {
   "cell_type": "markdown",
   "metadata": {},
   "source": [
    "#### Top 10 movie prediction for Apollo 13"
   ]
  },
  {
   "cell_type": "code",
   "execution_count": 54,
   "metadata": {},
   "outputs": [
    {
     "data": {
      "text/plain": [
       "'Model Predictions for apollo 13'"
      ]
     },
     "metadata": {},
     "output_type": "display_data"
    },
    {
     "data": {
      "text/plain": [
       "314                          Forrest Gump (1994)\n",
       "277             Shawshank Redemption, The (1994)\n",
       "257                          Pulp Fiction (1994)\n",
       "510             Silence of the Lambs, The (1991)\n",
       "123                             Apollo 13 (1995)\n",
       "97                             Braveheart (1995)\n",
       "418                         Jurassic Park (1993)\n",
       "398                         Fugitive, The (1993)\n",
       "461                      Schindler's List (1993)\n",
       "224    Star Wars: Episode IV - A New Hope (1977)\n",
       "Name: title, dtype: object"
      ]
     },
     "metadata": {},
     "output_type": "display_data"
    },
    {
     "data": {
      "text/plain": [
       "'Actual Predictions for apollo 13'"
      ]
     },
     "metadata": {},
     "output_type": "display_data"
    },
    {
     "data": {
      "text/plain": [
       "277             Shawshank Redemption, The (1994)\n",
       "314                          Forrest Gump (1994)\n",
       "257                          Pulp Fiction (1994)\n",
       "418                         Jurassic Park (1993)\n",
       "510             Silence of the Lambs, The (1991)\n",
       "398                         Fugitive, The (1993)\n",
       "97                             Braveheart (1995)\n",
       "461                      Schindler's List (1993)\n",
       "507            Terminator 2: Judgment Day (1991)\n",
       "224    Star Wars: Episode IV - A New Hope (1977)\n",
       "Name: title, dtype: object"
      ]
     },
     "metadata": {},
     "output_type": "display_data"
    }
   ],
   "source": [
    "movie = \"apollo 13\"\n",
    "predicted = prediction(movie)\n",
    "observed = observed_reco(movie)\n",
    "display(\"Model Predictions for \"+str(movie),predicted,\"Actual Predictions for \"+str(movie), observed)"
   ]
  },
  {
   "cell_type": "markdown",
   "metadata": {},
   "source": [
    "#### Top 10 movie recommendations for Toy Story"
   ]
  },
  {
   "cell_type": "code",
   "execution_count": 53,
   "metadata": {},
   "outputs": [
    {
     "data": {
      "text/plain": [
       "'Model Predictions for toy story'"
      ]
     },
     "metadata": {},
     "output_type": "display_data"
    },
    {
     "data": {
      "text/plain": [
       "277                      Shawshank Redemption, The (1994)\n",
       "314                                   Forrest Gump (1994)\n",
       "257                                   Pulp Fiction (1994)\n",
       "510                      Silence of the Lambs, The (1991)\n",
       "224             Star Wars: Episode IV - A New Hope (1977)\n",
       "1938                                   Matrix, The (1999)\n",
       "897     Star Wars: Episode V - The Empire Strikes Back...\n",
       "899     Raiders of the Lost Ark (Indiana Jones and the...\n",
       "0                                        Toy Story (1995)\n",
       "910     Star Wars: Episode VI - Return of the Jedi (1983)\n",
       "Name: title, dtype: object"
      ]
     },
     "metadata": {},
     "output_type": "display_data"
    },
    {
     "data": {
      "text/plain": [
       "'Actual Predictions for toy story'"
      ]
     },
     "metadata": {},
     "output_type": "display_data"
    },
    {
     "data": {
      "text/plain": [
       "277                      Shawshank Redemption, The (1994)\n",
       "314                                   Forrest Gump (1994)\n",
       "224             Star Wars: Episode IV - A New Hope (1977)\n",
       "257                                   Pulp Fiction (1994)\n",
       "510                      Silence of the Lambs, The (1991)\n",
       "897     Star Wars: Episode V - The Empire Strikes Back...\n",
       "1938                                   Matrix, The (1999)\n",
       "418                                  Jurassic Park (1993)\n",
       "899     Raiders of the Lost Ark (Indiana Jones and the...\n",
       "910     Star Wars: Episode VI - Return of the Jedi (1983)\n",
       "Name: title, dtype: object"
      ]
     },
     "metadata": {},
     "output_type": "display_data"
    }
   ],
   "source": [
    "movie = \"toy story\"\n",
    "predicted = prediction(movie)\n",
    "observed = observed_reco(movie)\n",
    "display(\"Model Predictions for \"+str(movie),predicted,\"Actual Predictions for \"+str(movie), observed)\n",
    "\n",
    "#display(\"Model Predictions:\",prediction(\"toy story\"),\"Actual Predictions:\", observed_reco(\"toy story\"))"
   ]
  },
  {
   "cell_type": "markdown",
   "metadata": {},
   "source": [
    "#### Top 10 movie predictions for Home Alone"
   ]
  },
  {
   "cell_type": "code",
   "execution_count": 60,
   "metadata": {},
   "outputs": [
    {
     "data": {
      "text/plain": [
       "'Model Predictions for home alone'"
      ]
     },
     "metadata": {},
     "output_type": "display_data"
    },
    {
     "data": {
      "text/plain": [
       "314                                   Forrest Gump (1994)\n",
       "504                                     Home Alone (1990)\n",
       "418                                  Jurassic Park (1993)\n",
       "506                                        Aladdin (1992)\n",
       "277                      Shawshank Redemption, The (1994)\n",
       "322                                 Lion King, The (1994)\n",
       "1938                                   Matrix, The (1999)\n",
       "224             Star Wars: Episode IV - A New Hope (1977)\n",
       "0                                        Toy Story (1995)\n",
       "897     Star Wars: Episode V - The Empire Strikes Back...\n",
       "Name: title, dtype: object"
      ]
     },
     "metadata": {},
     "output_type": "display_data"
    },
    {
     "data": {
      "text/plain": [
       "'Actual Predictions for home alone'"
      ]
     },
     "metadata": {},
     "output_type": "display_data"
    },
    {
     "data": {
      "text/plain": [
       "314                   Forrest Gump (1994)\n",
       "418                  Jurassic Park (1993)\n",
       "277      Shawshank Redemption, The (1994)\n",
       "506                        Aladdin (1992)\n",
       "322                 Lion King, The (1994)\n",
       "507     Terminator 2: Judgment Day (1991)\n",
       "0                        Toy Story (1995)\n",
       "510      Silence of the Lambs, The (1991)\n",
       "1938                   Matrix, The (1999)\n",
       "257                   Pulp Fiction (1994)\n",
       "Name: title, dtype: object"
      ]
     },
     "metadata": {},
     "output_type": "display_data"
    }
   ],
   "source": [
    "movie = \"home alone\"\n",
    "predicted = prediction(movie)\n",
    "observed = observed_reco(movie)\n",
    "display(\"Model Predictions for \"+str(movie),predicted,\"Actual Predictions for \"+str(movie), observed)\n"
   ]
  }
 ],
 "metadata": {
  "anaconda-cloud": {},
  "kernelspec": {
   "display_name": "Python 3",
   "language": "python",
   "name": "python3"
  },
  "language_info": {
   "codemirror_mode": {
    "name": "ipython",
    "version": 3
   },
   "file_extension": ".py",
   "mimetype": "text/x-python",
   "name": "python",
   "nbconvert_exporter": "python",
   "pygments_lexer": "ipython3",
   "version": "3.6.5"
  }
 },
 "nbformat": 4,
 "nbformat_minor": 2
}
